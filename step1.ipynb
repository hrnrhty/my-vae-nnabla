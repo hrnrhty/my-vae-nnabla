{
  "nbformat": 4,
  "nbformat_minor": 0,
  "metadata": {
    "colab": {
      "name": "step1.ipynb",
      "private_outputs": true,
      "provenance": [],
      "mount_file_id": "1lrIv6tVOwyaCjUeWIKnzb4KpU-Hxopyu",
      "authorship_tag": "ABX9TyPRx9IUoEZJ+LBP57kZ/DmG",
      "include_colab_link": true
    },
    "kernelspec": {
      "name": "python3",
      "display_name": "Python 3"
    },
    "language_info": {
      "name": "python"
    },
    "accelerator": "GPU"
  },
  "cells": [
    {
      "cell_type": "markdown",
      "metadata": {
        "id": "view-in-github",
        "colab_type": "text"
      },
      "source": [
        "<a href=\"https://colab.research.google.com/github/hrnrhty/my-vae-nnabla/blob/main/step1.ipynb\" target=\"_parent\"><img src=\"https://colab.research.google.com/assets/colab-badge.svg\" alt=\"Open In Colab\"/></a>"
      ]
    },
    {
      "cell_type": "markdown",
      "source": [
        "# nnabla-examples vae.pyを実行（学習）"
      ],
      "metadata": {
        "id": "g-_4I8m7Xx6I"
      }
    },
    {
      "cell_type": "markdown",
      "source": [
        "## GPU ランタイムを選択"
      ],
      "metadata": {
        "id": "AvYyvmDKbUwF"
      }
    },
    {
      "cell_type": "markdown",
      "source": [
        "タブメニューの「ランタイム」 > 「ランタイムのタイプを変更」をクリックし、「ハードウェア アクセラレータ」のドロップダウンメニューから「GPU」を選択、その後「保存」ボタンをクリックしてください。"
      ],
      "metadata": {
        "id": "_cihoJdJbaY-"
      }
    },
    {
      "cell_type": "markdown",
      "source": [
        "## Google Drive のマウント"
      ],
      "metadata": {
        "id": "7h_QzBnTYD71"
      }
    },
    {
      "cell_type": "markdown",
      "source": [
        "学習結果の永続化のため、Google Drive をマウントする。"
      ],
      "metadata": {
        "id": "BKaGDUgbYRS_"
      }
    },
    {
      "cell_type": "code",
      "execution_count": null,
      "metadata": {
        "id": "vWMARI1jXc6v"
      },
      "outputs": [],
      "source": [
        "from google.colab import drive\n",
        "drive.mount('/content/drive')"
      ]
    },
    {
      "cell_type": "markdown",
      "source": [
        "## NNabla のインストール"
      ],
      "metadata": {
        "id": "RKuPn0w3YMSf"
      }
    },
    {
      "cell_type": "markdown",
      "source": [
        "CUDA版をインストールする。"
      ],
      "metadata": {
        "id": "XW9kkJtwYpQx"
      }
    },
    {
      "cell_type": "code",
      "source": [
        "!pip install nnabla_ext_cuda100"
      ],
      "metadata": {
        "id": "GIONkxD1X-KH"
      },
      "execution_count": null,
      "outputs": []
    },
    {
      "cell_type": "markdown",
      "source": [
        "## nnabla-examples のクローン"
      ],
      "metadata": {
        "id": "2M_gpE9FZOgt"
      }
    },
    {
      "cell_type": "markdown",
      "source": [
        "v1.25.0 をクローンする。"
      ],
      "metadata": {
        "id": "BzgfgtHTZZae"
      }
    },
    {
      "cell_type": "code",
      "source": [
        "!if [ -d nnabla-examples ]; then rm -rf nnabla-examples; fi\n",
        "!git clone https://github.com/sony/nnabla-examples.git -b v1.25.0 --depth 1"
      ],
      "metadata": {
        "id": "-zcqngp0ZeJH"
      },
      "execution_count": null,
      "outputs": []
    },
    {
      "cell_type": "markdown",
      "source": [
        "## 学習の実行"
      ],
      "metadata": {
        "id": "mx_UHCeJayV4"
      }
    },
    {
      "cell_type": "code",
      "source": [
        "!cd nnabla-examples/image-classification/mnist-collection && python vae.py -c cudnn"
      ],
      "metadata": {
        "id": "PwxFe4axa3is"
      },
      "execution_count": null,
      "outputs": []
    },
    {
      "cell_type": "markdown",
      "source": [
        "## 学習結果を Google Drive に保存"
      ],
      "metadata": {
        "id": "eymmH0pCc-TJ"
      }
    },
    {
      "cell_type": "code",
      "source": [
        "!cd drive/MyDrive && if [ ! -d my-vae-nnabla ]; then mkdir my-vae-nnabla; fi\n",
        "!cd drive/MyDrive/my-vae-nnabla && if [ -d step1 ]; then rm -rf step1; fi\n",
        "!cp -r nnabla-examples/image-classification/mnist-collection/tmp.monitor.vae drive/MyDrive/my-vae-nnabla/step1"
      ],
      "metadata": {
        "id": "1S-YvH4idCjS"
      },
      "execution_count": null,
      "outputs": []
    }
  ]
}