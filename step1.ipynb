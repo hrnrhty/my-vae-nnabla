{
  "nbformat": 4,
  "nbformat_minor": 0,
  "metadata": {
    "colab": {
      "name": "step1.ipynb",
      "private_outputs": true,
      "provenance": [],
      "mount_file_id": "1lrIv6tVOwyaCjUeWIKnzb4KpU-Hxopyu",
      "authorship_tag": "ABX9TyMTxbiCTwbZ2AUaCyzqXvan",
      "include_colab_link": true
    },
    "kernelspec": {
      "name": "python3",
      "display_name": "Python 3"
    },
    "language_info": {
      "name": "python"
    },
    "accelerator": "GPU"
  },
  "cells": [
    {
      "cell_type": "markdown",
      "metadata": {
        "id": "view-in-github",
        "colab_type": "text"
      },
      "source": [
        "<a href=\"https://colab.research.google.com/github/hrnrhty/my-vae-nnabla/blob/main/step1.ipynb\" target=\"_parent\"><img src=\"https://colab.research.google.com/assets/colab-badge.svg\" alt=\"Open In Colab\"/></a>"
      ]
    },
    {
      "cell_type": "markdown",
      "source": [
        "# Step 1 - VAE の学習 (MNIST)"
      ],
      "metadata": {
        "id": "g-_4I8m7Xx6I"
      }
    },
    {
      "cell_type": "markdown",
      "source": [
        "最初のステップでは、[nnabla-examples](https://github.com/sony/nnabla-examples) に含まれる VAE (Variational Auto Encoder) をそのまま実行し、学習を行います。学習に用いるデータセットには、手書き数字のデータセットである [MNIST](http://yann.lecun.com/exdb/mnist/) が使用されています。"
      ],
      "metadata": {
        "id": "jr9DvkqQiXVw"
      }
    },
    {
      "cell_type": "markdown",
      "source": [
        "このノートブックでは、学習時間短縮のため GPU アクセラレーションを有効にしています。もし、以降のコードがうまく動かなかった場合は、タブメニューの「ランタイム」 > 「ランタイムのタイプを変更」をクリックし、「ハードウェア アクセラレータ」のドロップダウンメニューで「GPU」が選択されているか確認してください。「GPU」が選択されていなかった場合は、「GPU」を選択して「保存」ボタンをクリックしてください。"
      ],
      "metadata": {
        "id": "_cihoJdJbaY-"
      }
    },
    {
      "cell_type": "markdown",
      "source": [
        "## Google Drive のマウント"
      ],
      "metadata": {
        "id": "7h_QzBnTYD71"
      }
    },
    {
      "cell_type": "markdown",
      "source": [
        "学習結果の永続化のため Google Drive をマウントします。"
      ],
      "metadata": {
        "id": "BKaGDUgbYRS_"
      }
    },
    {
      "cell_type": "code",
      "execution_count": null,
      "metadata": {
        "id": "vWMARI1jXc6v"
      },
      "outputs": [],
      "source": [
        "from google.colab import drive\n",
        "drive.mount('/content/drive')"
      ]
    },
    {
      "cell_type": "markdown",
      "source": [
        "## NNabla のインストール"
      ],
      "metadata": {
        "id": "RKuPn0w3YMSf"
      }
    },
    {
      "cell_type": "markdown",
      "source": [
        "Sony の [Neural Network Libraries](https://github.com/sony/nnabla) (NNabla) は Google Colab のランタイムにインストールされていないため、インストールします。ここでは、GPU アクセラレーションが使用できるよう、CUDA 版をインストールします。\n",
        "\n",
        "NNabla の依存パッケージの中には既に Google Colab にインストールされているものがあり、NNabla が要求するバージョンと一致していない場合インストール時にエラーが発生することがあります。エラーを無視して先に進んでも問題なく動作することが多いですが、ここではエラー発生を回避します。具体的には、仮想環境を作成し、その中に NNabla をインストールしていきます。\n",
        "\n",
        "通常、仮想環境の作成には Python 3.3 以降標準パッケージに含まれるようになった `venv` が使用されますが、Google Colab ではうまく動作しません。そこで、代わりに [virtualenv](https://virtualenv.pypa.io/en/latest/) をインストールします。`virtualenv` は `venv` の元になったパッケージです。\n",
        "\n",
        "まず、`virtualenv` をインストールし、続いて `venv` という名称の仮想環境を作成します。"
      ],
      "metadata": {
        "id": "XW9kkJtwYpQx"
      }
    },
    {
      "cell_type": "code",
      "source": [
        "!pip install virtualenv\n",
        "!virtualenv venv"
      ],
      "metadata": {
        "id": "i7fmCf26Sxwz"
      },
      "execution_count": null,
      "outputs": []
    },
    {
      "cell_type": "markdown",
      "source": [
        "仮想環境をアクティベートし、仮想環境内に NNabla (CUDA版) をインストールします。2022 年 2 月 2 日時点、最新版である v1.25.0 をインストールします。\n",
        "\n",
        "ここで、`!` によるシェルコマンドはサブプロセスとして実行されるため、コマンド実行終了後は状態が維持されないことに注意が必要です。`&&` で連結し1つのコマンドとしてシェルに渡しましょう。2 行に分けてしまうと、2 行目は仮想環境がアクティベートされていない別のサブプロセスになるため、NNabla が仮想環境外にインストールされてしまいます。"
      ],
      "metadata": {
        "id": "G4oyggm2xYQY"
      }
    },
    {
      "cell_type": "code",
      "source": [
        "!source venv/bin/activate && pip install nnabla-ext-cuda100==1.25.0"
      ],
      "metadata": {
        "id": "GIONkxD1X-KH"
      },
      "execution_count": null,
      "outputs": []
    },
    {
      "cell_type": "markdown",
      "source": [
        "## nnabla-examples のクローン"
      ],
      "metadata": {
        "id": "2M_gpE9FZOgt"
      }
    },
    {
      "cell_type": "markdown",
      "source": [
        "[nnabla-examples](https://github.com/sony/nnabla-examples) は活発にメンテナンスされており、時々ディレクトリ構成が変更されるため、ここでは Tag v1.25.0 を指定してクローンします。"
      ],
      "metadata": {
        "id": "BzgfgtHTZZae"
      }
    },
    {
      "cell_type": "code",
      "source": [
        "!if [ ! -d nnabla-examples ]; then git clone https://github.com/sony/nnabla-examples.git -b v1.25.0 --depth 1; fi"
      ],
      "metadata": {
        "id": "-zcqngp0ZeJH"
      },
      "execution_count": null,
      "outputs": []
    },
    {
      "cell_type": "markdown",
      "source": [
        "## 学習の実行"
      ],
      "metadata": {
        "id": "mx_UHCeJayV4"
      }
    },
    {
      "cell_type": "markdown",
      "source": [
        "GPU アクセラレーションを有効にするため、`-c cudnn` オプションつきで `vae.py` を実行します。GPU を利用することで、学習にかかる時間が飛躍的に短縮されます。試しに CPU のみで実行したときの学習速度を体感してみたい場合は、`-c cudnn` を削除して実行してください。\n",
        "\n",
        "また、ここでも、仮想環境のアクティベートを忘れないようにしましょう。"
      ],
      "metadata": {
        "id": "TwlC-DXekVLS"
      }
    },
    {
      "cell_type": "code",
      "source": [
        "!source venv/bin/activate && cd nnabla-examples/image-classification/mnist-collection && python vae.py -c cudnn"
      ],
      "metadata": {
        "id": "PwxFe4axa3is"
      },
      "execution_count": null,
      "outputs": []
    },
    {
      "cell_type": "markdown",
      "source": [
        "## 学習結果を Google Drive に保存"
      ],
      "metadata": {
        "id": "eymmH0pCc-TJ"
      }
    },
    {
      "cell_type": "code",
      "source": [
        "!cd drive/MyDrive && if [ ! -d my-vae-nnabla ]; then mkdir my-vae-nnabla; fi\n",
        "!cd drive/MyDrive/my-vae-nnabla && if [ -d step1 ]; then rm -rf step1; fi\n",
        "!cp -r nnabla-examples/image-classification/mnist-collection/tmp.monitor.vae drive/MyDrive/my-vae-nnabla/step1"
      ],
      "metadata": {
        "id": "1S-YvH4idCjS"
      },
      "execution_count": null,
      "outputs": []
    },
    {
      "cell_type": "markdown",
      "source": [
        "Google Drive に保存した学習結果は、Step 2 で使用します。"
      ],
      "metadata": {
        "id": "rBrAUFQ-kiWW"
      }
    }
  ]
}