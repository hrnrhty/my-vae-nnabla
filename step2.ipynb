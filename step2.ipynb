{
  "nbformat": 4,
  "nbformat_minor": 0,
  "metadata": {
    "colab": {
      "name": "step2.ipynb",
      "provenance": [],
      "authorship_tag": "ABX9TyOgdFDgDrA7rmOFK+xklWV4",
      "include_colab_link": true
    },
    "kernelspec": {
      "name": "python3",
      "display_name": "Python 3"
    },
    "language_info": {
      "name": "python"
    }
  },
  "cells": [
    {
      "cell_type": "markdown",
      "metadata": {
        "id": "view-in-github",
        "colab_type": "text"
      },
      "source": [
        "<a href=\"https://colab.research.google.com/github/hrnrhty/my-vae-nnabla/blob/main/step2.ipynb\" target=\"_parent\"><img src=\"https://colab.research.google.com/assets/colab-badge.svg\" alt=\"Open In Colab\"/></a>"
      ]
    },
    {
      "cell_type": "markdown",
      "source": [
        "# Step 2 - 入力画像と VAE 生成画像の比較"
      ],
      "metadata": {
        "id": "g5UPM5tcgQaR"
      }
    },
    {
      "cell_type": "markdown",
      "source": [
        "Step 2 では、Step 1 で学習した結果を用いて VAE (Variational Auto Encoder) の推論を実行します。VAE で推論を実行すると画像が生成されます。生成された画像が入力画像と比較してどのように違うのか、実際に画像を表示して確認していきます。\n",
        "\n",
        "なお、このステップを実行するには Step 1 の学習結果が必須です。まだ Step 1 を実行していない場合は、先に Step 1 を最後まで実行して学習結果を準備してください。Step 1 のノートブックは以下のバナーから開くことができます。  \n",
        "[![Open in Colab](https://colab.research.google.com/assets/colab-badge.svg)](https://colab.research.google.com/github/hrnrhty/my-vae-nnabla/blob/main/step1.ipynb)\n",
        "\n",
        "また、推論は学習に比べて処理に時間がかからないため、このステップでは GPU アクセラレーションを使用せず、CPU のみで処理を実行していきます。"
      ],
      "metadata": {
        "id": "kLbjAWQOgcly"
      }
    },
    {
      "cell_type": "markdown",
      "source": [
        "## Google Drive のマウント"
      ],
      "metadata": {
        "id": "jWUNkz_fEGqX"
      }
    },
    {
      "cell_type": "markdown",
      "source": [
        "Step 1 の学習結果を読み込むため Google Drive をマウントします。\n",
        "\n",
        "> Note: 先に Step 1 を最後まで実行しておいてください。"
      ],
      "metadata": {
        "id": "HR9qqGKkEJwE"
      }
    },
    {
      "cell_type": "code",
      "source": [
        "from google.colab import drive\n",
        "drive.mount('/content/drive')"
      ],
      "metadata": {
        "id": "Ch7YlrHkETaW",
        "colab": {
          "base_uri": "https://localhost:8080/"
        },
        "outputId": "d5858c64-2a38-4b6b-a2f3-5fe368579a5d"
      },
      "execution_count": 1,
      "outputs": [
        {
          "output_type": "stream",
          "name": "stdout",
          "text": [
            "Mounted at /content/drive\n"
          ]
        }
      ]
    },
    {
      "cell_type": "markdown",
      "source": [
        "## NNabla のインストール"
      ],
      "metadata": {
        "id": "R69qhfdOEyMt"
      }
    },
    {
      "cell_type": "markdown",
      "source": [
        "本ステップでは GPU アクセラレーションを使用しないので、通常の [NNabla](https://github.com/sony/nnabla) だけをインストールします（CUDA 版はインストールしません）。\n",
        "\n",
        "ここでは、2022 年 2 月 2 日時点、最新バージョンである v1.25.0 をインストールしますが、おもむろにインストールを実行すると `pip` コマンドの実行結果の中にエラーメッセージが表示されます。依存パッケージの中に、Google Colab のランタイムにはじめからインストールされているものがあり、そのバージョンが NNabla の要求するバージョンよりも新しいバージョンであることが原因です。\n",
        "\n",
        "エラーが表示されても NNabla のインストールに成功していれば以降のコードは問題なく実行できることがほとんどですが、ここでは NNabla が要求するバージョンのパッケージを手動インストールすることによりエラーを回避します。\n",
        "\n",
        "下記、1 行目のコマンドは NNabla の依存パッケージの一部をバージョン指定でインストールします。2 行目のコマンドは NNabla をインストールします。\n",
        "\n",
        "どのようなエラーメッセージが表示されるのか気になる方は、1 行目をコメントアウトして実行してみてください。一度実行済の場合は、Google Colab のランタイムを出荷設定にリセットしてから実行してください。"
      ],
      "metadata": {
        "id": "u0ZSHp1CE1IB"
      }
    },
    {
      "cell_type": "code",
      "source": [
        "!pip install urllib3==1.25.11 folium==0.2.1\n",
        "!pip install nnabla==1.25.0"
      ],
      "metadata": {
        "id": "T8owuSM9E-oa",
        "colab": {
          "base_uri": "https://localhost:8080/"
        },
        "outputId": "fa4a2e55-c603-466b-e13c-6a9d2a4594e0"
      },
      "execution_count": 2,
      "outputs": [
        {
          "output_type": "stream",
          "name": "stdout",
          "text": [
            "Collecting urllib3==1.25.11\n",
            "  Downloading urllib3-1.25.11-py2.py3-none-any.whl (127 kB)\n",
            "\u001b[K     |████████████████████████████████| 127 kB 14.1 MB/s \n",
            "\u001b[?25hCollecting folium==0.2.1\n",
            "  Downloading folium-0.2.1.tar.gz (69 kB)\n",
            "\u001b[K     |████████████████████████████████| 69 kB 7.0 MB/s \n",
            "\u001b[?25hRequirement already satisfied: Jinja2 in /usr/local/lib/python3.7/dist-packages (from folium==0.2.1) (2.11.3)\n",
            "Requirement already satisfied: MarkupSafe>=0.23 in /usr/local/lib/python3.7/dist-packages (from Jinja2->folium==0.2.1) (2.0.1)\n",
            "Building wheels for collected packages: folium\n",
            "  Building wheel for folium (setup.py) ... \u001b[?25l\u001b[?25hdone\n",
            "  Created wheel for folium: filename=folium-0.2.1-py3-none-any.whl size=79808 sha256=08175c9ed2aa64d07e4796035e240dcebf5faee8cb514c9d1979530cfe024fab\n",
            "  Stored in directory: /root/.cache/pip/wheels/9a/f0/3a/3f79a6914ff5affaf50cabad60c9f4d565283283c97f0bdccf\n",
            "Successfully built folium\n",
            "Installing collected packages: urllib3, folium\n",
            "  Attempting uninstall: urllib3\n",
            "    Found existing installation: urllib3 1.24.3\n",
            "    Uninstalling urllib3-1.24.3:\n",
            "      Successfully uninstalled urllib3-1.24.3\n",
            "  Attempting uninstall: folium\n",
            "    Found existing installation: folium 0.8.3\n",
            "    Uninstalling folium-0.8.3:\n",
            "      Successfully uninstalled folium-0.8.3\n",
            "Successfully installed folium-0.2.1 urllib3-1.25.11\n",
            "Collecting nnabla==1.25.0\n",
            "  Downloading nnabla-1.25.0-cp37-cp37m-manylinux_2_17_x86_64.whl (18.1 MB)\n",
            "\u001b[K     |████████████████████████████████| 18.1 MB 935 kB/s \n",
            "\u001b[?25hRequirement already satisfied: h5py<=3.1.0 in /usr/local/lib/python3.7/dist-packages (from nnabla==1.25.0) (3.1.0)\n",
            "Collecting boto3\n",
            "  Downloading boto3-1.21.24-py3-none-any.whl (132 kB)\n",
            "\u001b[K     |████████████████████████████████| 132 kB 49.7 MB/s \n",
            "\u001b[?25hRequirement already satisfied: imageio in /usr/local/lib/python3.7/dist-packages (from nnabla==1.25.0) (2.4.1)\n",
            "Requirement already satisfied: tqdm in /usr/local/lib/python3.7/dist-packages (from nnabla==1.25.0) (4.63.0)\n",
            "Requirement already satisfied: protobuf>=3.6 in /usr/local/lib/python3.7/dist-packages (from nnabla==1.25.0) (3.17.3)\n",
            "Collecting configparser\n",
            "  Downloading configparser-5.2.0-py3-none-any.whl (19 kB)\n",
            "Requirement already satisfied: Cython in /usr/local/lib/python3.7/dist-packages (from nnabla==1.25.0) (0.29.28)\n",
            "Requirement already satisfied: six in /usr/local/lib/python3.7/dist-packages (from nnabla==1.25.0) (1.15.0)\n",
            "Requirement already satisfied: pyyaml in /usr/local/lib/python3.7/dist-packages (from nnabla==1.25.0) (3.13)\n",
            "Requirement already satisfied: contextlib2 in /usr/local/lib/python3.7/dist-packages (from nnabla==1.25.0) (0.5.5)\n",
            "Requirement already satisfied: numpy in /usr/local/lib/python3.7/dist-packages (from nnabla==1.25.0) (1.21.5)\n",
            "Requirement already satisfied: scipy in /usr/local/lib/python3.7/dist-packages (from nnabla==1.25.0) (1.4.1)\n",
            "Requirement already satisfied: pillow in /usr/local/lib/python3.7/dist-packages (from nnabla==1.25.0) (7.1.2)\n",
            "Requirement already satisfied: setuptools in /usr/local/lib/python3.7/dist-packages (from nnabla==1.25.0) (57.4.0)\n",
            "Requirement already satisfied: cached-property in /usr/local/lib/python3.7/dist-packages (from h5py<=3.1.0->nnabla==1.25.0) (1.5.2)\n",
            "Collecting jmespath<2.0.0,>=0.7.1\n",
            "  Downloading jmespath-1.0.0-py3-none-any.whl (23 kB)\n",
            "Collecting s3transfer<0.6.0,>=0.5.0\n",
            "  Downloading s3transfer-0.5.2-py3-none-any.whl (79 kB)\n",
            "\u001b[K     |████████████████████████████████| 79 kB 6.4 MB/s \n",
            "\u001b[?25hCollecting botocore<1.25.0,>=1.24.24\n",
            "  Downloading botocore-1.24.24-py3-none-any.whl (8.6 MB)\n",
            "\u001b[K     |████████████████████████████████| 8.6 MB 50.2 MB/s \n",
            "\u001b[?25hRequirement already satisfied: python-dateutil<3.0.0,>=2.1 in /usr/local/lib/python3.7/dist-packages (from botocore<1.25.0,>=1.24.24->boto3->nnabla==1.25.0) (2.8.2)\n",
            "Requirement already satisfied: urllib3<1.27,>=1.25.4 in /usr/local/lib/python3.7/dist-packages (from botocore<1.25.0,>=1.24.24->boto3->nnabla==1.25.0) (1.25.11)\n",
            "Installing collected packages: jmespath, botocore, s3transfer, configparser, boto3, nnabla\n",
            "Successfully installed boto3-1.21.24 botocore-1.24.24 configparser-5.2.0 jmespath-1.0.0 nnabla-1.25.0 s3transfer-0.5.2\n"
          ]
        }
      ]
    },
    {
      "cell_type": "markdown",
      "source": [
        "## nnabla-examples のクローン"
      ],
      "metadata": {
        "id": "vtQX_8CyFBwx"
      }
    },
    {
      "cell_type": "markdown",
      "source": [
        "Step 1 同様、[nnabla-examples](https://github.com/sony/nnabla-examples) v1.25.0 をクローンします。"
      ],
      "metadata": {
        "id": "bldRIhisFFpa"
      }
    },
    {
      "cell_type": "code",
      "source": [
        "!if [ -d nnabla-examples ]; then rm -rf nnabla-examples; fi\n",
        "!git clone https://github.com/sony/nnabla-examples.git -b v1.25.0 --depth 1"
      ],
      "metadata": {
        "id": "4e_3VC_OF10c",
        "colab": {
          "base_uri": "https://localhost:8080/"
        },
        "outputId": "e3ca2ada-e293-486c-ab27-a8d03d61e0bf"
      },
      "execution_count": 3,
      "outputs": [
        {
          "output_type": "stream",
          "name": "stdout",
          "text": [
            "Cloning into 'nnabla-examples'...\n",
            "remote: Enumerating objects: 1557, done.\u001b[K\n",
            "remote: Counting objects: 100% (1557/1557), done.\u001b[K\n",
            "remote: Compressing objects: 100% (1408/1408), done.\u001b[K\n",
            "remote: Total 1557 (delta 241), reused 884 (delta 82), pack-reused 0\u001b[K\n",
            "Receiving objects: 100% (1557/1557), 201.62 MiB | 22.41 MiB/s, done.\n",
            "Resolving deltas: 100% (241/241), done.\n",
            "Note: checking out '03b674a19e8289ce870cd3dfd2a0983d6ef004fc'.\n",
            "\n",
            "You are in 'detached HEAD' state. You can look around, make experimental\n",
            "changes and commit them, and you can discard any commits you make in this\n",
            "state without impacting any branches by performing another checkout.\n",
            "\n",
            "If you want to create a new branch to retain commits you create, you may\n",
            "do so (now or later) by using -b with the checkout command again. Example:\n",
            "\n",
            "  git checkout -b <new-branch-name>\n",
            "\n",
            "Checking out files: 100% (1377/1377), done.\n"
          ]
        }
      ]
    },
    {
      "cell_type": "markdown",
      "source": [
        "## VAE 関数の読み込み"
      ],
      "metadata": {
        "id": "hlVPH1TgF6zK"
      }
    },
    {
      "cell_type": "markdown",
      "source": [
        "[nnabla-examples](https://github.com/sony/nnabla-examples) の `vae.py` およびその他 Helper 関数を利用するため、カレントディレクトリを移動します。"
      ],
      "metadata": {
        "id": "kkSYdoQ6zXuJ"
      }
    },
    {
      "cell_type": "code",
      "source": [
        "%cd 'nnabla-examples/image-classification/mnist-collection'"
      ],
      "metadata": {
        "id": "saXZgcYSHyGE",
        "colab": {
          "base_uri": "https://localhost:8080/"
        },
        "outputId": "40c7c18c-8e39-4f33-bc52-5fd475b50bc1"
      },
      "execution_count": 4,
      "outputs": [
        {
          "output_type": "stream",
          "name": "stdout",
          "text": [
            "/content/nnabla-examples/image-classification/mnist-collection\n"
          ]
        }
      ]
    },
    {
      "cell_type": "markdown",
      "source": [
        "`vae.py` 内で提供されている関数 `vae` は `loss` しか返しません。そこで、推論結果も返すように `vae.py` を書き換えます。"
      ],
      "metadata": {
        "id": "mUCVHznf0LtA"
      }
    },
    {
      "cell_type": "code",
      "source": [
        "!sed -i -e 's/return loss/return loss, prob/g' vae.py"
      ],
      "metadata": {
        "id": "VZgGAbGBSWb9"
      },
      "execution_count": 5,
      "outputs": []
    },
    {
      "cell_type": "markdown",
      "source": [
        "推論結果 `prob` も返すように改造した関数 `vae` をインポートします。"
      ],
      "metadata": {
        "id": "aPJ1kkqc0axS"
      }
    },
    {
      "cell_type": "code",
      "source": [
        "from vae import vae"
      ],
      "metadata": {
        "id": "_kYhOA_-I7nh",
        "colab": {
          "base_uri": "https://localhost:8080/"
        },
        "outputId": "aed2732a-6981-4d60-8c09-f8e74c855049"
      },
      "execution_count": 6,
      "outputs": [
        {
          "output_type": "stream",
          "name": "stderr",
          "text": [
            "2022-03-23 09:30:26,690 [nnabla][INFO]: Initializing CPU extension...\n"
          ]
        }
      ]
    },
    {
      "cell_type": "markdown",
      "source": [
        "## 学習結果の読み込み"
      ],
      "metadata": {
        "id": "TwMBF3Zw0pY0"
      }
    },
    {
      "cell_type": "markdown",
      "source": [
        "後ほど使用する module も含め、ここでまとめてインポートします。"
      ],
      "metadata": {
        "id": "Fl3ViqHG0u2_"
      }
    },
    {
      "cell_type": "code",
      "source": [
        "import nnabla as nn\n",
        "import nnabla.functions as F\n",
        "from mnist_data import data_iterator_mnist"
      ],
      "metadata": {
        "id": "j5B12gg5JF3f"
      },
      "execution_count": 7,
      "outputs": []
    },
    {
      "cell_type": "markdown",
      "source": [
        "Step 1 で保存した学習済みパラメータを読み込みます。"
      ],
      "metadata": {
        "id": "tOzlGo6b05Te"
      }
    },
    {
      "cell_type": "code",
      "source": [
        "_ = nn.load_parameters('/content/drive/MyDrive/my-vae-nnabla/step1/params_060000.h5')"
      ],
      "metadata": {
        "id": "hbX_S6AOJqoo"
      },
      "execution_count": 8,
      "outputs": []
    },
    {
      "cell_type": "markdown",
      "source": [
        "## 推論の実行"
      ],
      "metadata": {
        "id": "Kv8HbHxI1BxV"
      }
    },
    {
      "cell_type": "markdown",
      "source": [
        "学習済モデルが準備できたので、推論を実行してみます。下記のコードでは、変数 `x` を作成し、[MNIST](http://yann.lecun.com/exdb/mnist/) データセットからランダムに10個の画像を取り出し、`x` に格納しています。そして、関数 `vae` の推論結果に `sigmoid` 関数を適用してデータの値域を (0, 1.0) の区間に正規化し、最終的な推論結果とするよう定義しています。最後の行で `forward()` をコールし、推論を実行しています。"
      ],
      "metadata": {
        "id": "wiurbUgJ1OlQ"
      }
    },
    {
      "cell_type": "code",
      "source": [
        "shape_x = (1, 28, 28)\n",
        "shape_z = (50,)\n",
        "x = nn.Variable((10,) + shape_x)\n",
        "\n",
        "loss, prob = vae(x, shape_z, test=True)\n",
        "di_t = data_iterator_mnist(10, False)\n",
        "x.d, _ = di_t.next()\n",
        "prob = F.sigmoid(prob)\n",
        "prob.forward()"
      ],
      "metadata": {
        "id": "CQOUSTMqKDMn",
        "colab": {
          "base_uri": "https://localhost:8080/"
        },
        "outputId": "3b6d4e87-2ff1-4812-82b0-c3ba6dadc0e2"
      },
      "execution_count": 9,
      "outputs": [
        {
          "output_type": "stream",
          "name": "stderr",
          "text": [
            "2022-03-23 09:30:30,851 [nnabla][INFO]: DataSource with shuffle(True)\n",
            "2022-03-23 09:30:30,853 [nnabla][INFO]: Getting label data from http://yann.lecun.com/exdb/mnist/t10k-labels-idx1-ubyte.gz.\n",
            "t10k-labels-idx1-ubyte.gz: 100%|██████████| 4.44k/4.44k [00:00<00:00, 7.50MB/s]\n",
            "2022-03-23 09:30:30,915 [nnabla][INFO]: Getting label data done.\n",
            "2022-03-23 09:30:30,918 [nnabla][INFO]: Getting image data from http://yann.lecun.com/exdb/mnist/t10k-images-idx3-ubyte.gz.\n",
            "t10k-images-idx3-ubyte.gz: 100%|██████████| 1.57M/1.57M [00:00<00:00, 62.8MB/s]\n",
            "2022-03-23 09:30:31,064 [nnabla][INFO]: Getting image data done.\n",
            "2022-03-23 09:30:31,071 [nnabla][INFO]: Using DataIterator\n"
          ]
        }
      ]
    },
    {
      "cell_type": "markdown",
      "source": [
        "GPU アクセラレーションは使用していませんが、あっという間に推論が完了しましたね。\n",
        "\n",
        "それでは、入力画像とそれに対応する推論結果（生成された画像）を表示してみましょう。ここでは、画像の表示に `matplotlib` を使用します。"
      ],
      "metadata": {
        "id": "kgR2Ad6M3Ibr"
      }
    },
    {
      "cell_type": "code",
      "source": [
        "%matplotlib inline\n",
        "import matplotlib.pyplot as plt"
      ],
      "metadata": {
        "id": "z6nuXul1KEJp"
      },
      "execution_count": 10,
      "outputs": []
    },
    {
      "cell_type": "markdown",
      "source": [
        "8 枚目（index = 7）の入力画像を表示してみます。\n",
        "\n",
        "ここで、入力画像の値域は [0, 255] になっています。このままでも画像の表示はできますが、あとで生成画像と比較するため 256 で割って [0, 1) の区間に正規化します。"
      ],
      "metadata": {
        "id": "ZHKqmocN47A0"
      }
    },
    {
      "cell_type": "code",
      "source": [
        "img_num = 7"
      ],
      "metadata": {
        "id": "u56nESCX5StQ"
      },
      "execution_count": 11,
      "outputs": []
    },
    {
      "cell_type": "code",
      "source": [
        "input_img = x.d[img_num][0] / 256.\n",
        "print('---- 入力画像 ----')\n",
        "print('Min. value =', input_img.min())\n",
        "print('Max. value =', input_img.max())\n",
        "plt.imshow(input_img, cmap='gray')\n",
        "plt.show()"
      ],
      "metadata": {
        "id": "7mgCoByy3fbt",
        "colab": {
          "base_uri": "https://localhost:8080/",
          "height": 317
        },
        "outputId": "866e8ba1-8edb-4c56-eced-f770f59c48dc"
      },
      "execution_count": 12,
      "outputs": [
        {
          "output_type": "stream",
          "name": "stdout",
          "text": [
            "---- 入力画像 ----\n",
            "Min. value = 0.0\n",
            "Max. value = 0.99609375\n"
          ]
        },
        {
          "output_type": "display_data",
          "data": {
            "text/plain": [
              "<Figure size 432x288 with 1 Axes>"
            ],
            "image/png": "[encoded data removed]"
          },
          "metadata": {
            "needs_background": "light"
          }
        }
      ]
    },
    {
      "cell_type": "markdown",
      "source": [
        "続いて、推論の結果、VAE が生成した画像を表示してみます。"
      ],
      "metadata": {
        "id": "fVNzZ8k-5iU_"
      }
    },
    {
      "cell_type": "code",
      "source": [
        "output_img = prob.d[img_num][0]\n",
        "print('---- VAE 生成画像 ----')\n",
        "print('Min. value =', output_img.min())\n",
        "print('Max. value =', output_img.max())\n",
        "plt.imshow(output_img, cmap='gray')\n",
        "plt.show()"
      ],
      "metadata": {
        "id": "iEI4oEup41zC",
        "colab": {
          "base_uri": "https://localhost:8080/",
          "height": 317
        },
        "outputId": "a035a66b-e8c3-4b8f-df49-80f488ac4f45"
      },
      "execution_count": 13,
      "outputs": [
        {
          "output_type": "stream",
          "name": "stdout",
          "text": [
            "---- VAE 生成画像 ----\n",
            "Min. value = 3.6912033e-18\n",
            "Max. value = 0.9999342\n"
          ]
        },
        {
          "output_type": "display_data",
          "data": {
            "text/plain": [
              "<Figure size 432x288 with 1 Axes>"
            ],
            "image/png": "[encoded data removed]"
          },
          "metadata": {
            "needs_background": "light"
          }
        }
      ]
    },
    {
      "cell_type": "markdown",
      "source": [
        "ちゃんと \"2\" と判別ができる画像が生成されています！しかしよく見ると、入力画像とは少し異なる点もあるようです。\n",
        "\n",
        "様々な手書き数字を学習した VAE は、平均的な \"2\" の生成を試みるようにトレーニングされています。そのため、入力画像に見られた上部の黒い点が消えたり、下部の線の湾曲が直線に近づいたり、全体的に滑らかになった印象があります。"
      ],
      "metadata": {
        "id": "6xPzTP0554zC"
      }
    },
    {
      "cell_type": "markdown",
      "source": [
        "それでは最後に、入力画像と生成画像の差の絶対値をヒートマップ化して、入力画像の上に重ねて表示してみましょう。"
      ],
      "metadata": {
        "id": "wEEpFvEz7EmE"
      }
    },
    {
      "cell_type": "code",
      "source": [
        "diff = output_img - input_img\n",
        "abs_diff = abs(diff)\n",
        "score = sum(sum(abs_diff))\n",
        "print('---- 入力画像に VAE 生成画像との差分を重畳 ----')\n",
        "print('Sum of absolute values of difference =', score)\n",
        "print('Min. diff. (abs) =', abs_diff.min())\n",
        "print('Max. diff. (abs) =', abs_diff.max())\n",
        "plt.imshow(input_img, cmap='gray')\n",
        "diff_img = plt.imshow(abs_diff, cmap='jet', alpha=0.5)\n",
        "plt.colorbar(diff_img)\n",
        "plt.show()"
      ],
      "metadata": {
        "id": "3GGG7ZlDT3ow",
        "colab": {
          "base_uri": "https://localhost:8080/",
          "height": 334
        },
        "outputId": "ba81a972-8f69-4920-a627-2bff3171fbb0"
      },
      "execution_count": 14,
      "outputs": [
        {
          "output_type": "stream",
          "name": "stdout",
          "text": [
            "---- 入力画像に VAE 生成画像との差分を重畳 ----\n",
            "Sum of absolute values of difference = 22.96915309392251\n",
            "Min. diff. (abs) = 3.691203320831118e-18\n",
            "Max. diff. (abs) = 0.7595529556274414\n"
          ]
        },
        {
          "output_type": "display_data",
          "data": {
            "text/plain": [
              "<Figure size 432x288 with 2 Axes>"
            ],
            "image/png": "[encoded data removed]"
          },
          "metadata": {
            "needs_background": "light"
          }
        }
      ]
    },
    {
      "cell_type": "markdown",
      "source": [
        "他の数字も同様に確認してみましょう。"
      ],
      "metadata": {
        "id": "m1G2FuuU-KZl"
      }
    },
    {
      "cell_type": "code",
      "source": [
        "img_num = 8"
      ],
      "metadata": {
        "id": "rXWtrodH-OJb"
      },
      "execution_count": 15,
      "outputs": []
    },
    {
      "cell_type": "code",
      "source": [
        "input_img = x.d[img_num][0] / 256.\n",
        "print('---- 入力画像 ----')\n",
        "print('Min. value =', input_img.min())\n",
        "print('Max. value =', input_img.max())\n",
        "plt.imshow(input_img, cmap='gray')\n",
        "plt.show()"
      ],
      "metadata": {
        "id": "MBAdl1eN_4_8",
        "colab": {
          "base_uri": "https://localhost:8080/",
          "height": 317
        },
        "outputId": "f56d4ccf-7b1e-4ab5-d06f-181b0e5f572f"
      },
      "execution_count": 16,
      "outputs": [
        {
          "output_type": "stream",
          "name": "stdout",
          "text": [
            "---- 入力画像 ----\n",
            "Min. value = 0.0\n",
            "Max. value = 0.99609375\n"
          ]
        },
        {
          "output_type": "display_data",
          "data": {
            "text/plain": [
              "<Figure size 432x288 with 1 Axes>"
            ],
            "image/png": "[encoded data removed]"
          },
          "metadata": {
            "needs_background": "light"
          }
        }
      ]
    },
    {
      "cell_type": "code",
      "source": [
        "output_img = prob.d[img_num][0]\n",
        "print('---- VAE 生成画像 ----')\n",
        "print('Min. value =', output_img.min())\n",
        "print('Max. value =', output_img.max())\n",
        "plt.imshow(output_img, cmap='gray')\n",
        "plt.show()"
      ],
      "metadata": {
        "id": "ie9Wljee-jl4",
        "colab": {
          "base_uri": "https://localhost:8080/",
          "height": 317
        },
        "outputId": "792020f7-4392-4a0a-e8a9-c7b488c35632"
      },
      "execution_count": 17,
      "outputs": [
        {
          "output_type": "stream",
          "name": "stdout",
          "text": [
            "---- VAE 生成画像 ----\n",
            "Min. value = 1.03019125e-20\n",
            "Max. value = 0.9972681\n"
          ]
        },
        {
          "output_type": "display_data",
          "data": {
            "text/plain": [
              "<Figure size 432x288 with 1 Axes>"
            ],
            "image/png": "[encoded data removed]"
          },
          "metadata": {
            "needs_background": "light"
          }
        }
      ]
    },
    {
      "cell_type": "code",
      "source": [
        "diff = output_img - input_img\n",
        "abs_diff = abs(diff)\n",
        "score = sum(sum(abs_diff))\n",
        "print('---- 入力画像に VAE 生成画像との差分を重畳 ----')\n",
        "print('Sum of absolute values of difference =', score)\n",
        "print('Min. diff. (abs) =', abs_diff.min())\n",
        "print('Max. diff. (abs) =', abs_diff.max())\n",
        "plt.imshow(input_img, cmap='gray')\n",
        "diff_img = plt.imshow(abs_diff, cmap='jet', alpha=0.5)\n",
        "plt.colorbar(diff_img)\n",
        "plt.show()"
      ],
      "metadata": {
        "id": "5tRZkHzN-kKy",
        "colab": {
          "base_uri": "https://localhost:8080/",
          "height": 334
        },
        "outputId": "b1a9ce73-ecb0-4400-d108-56c467ff0c3c"
      },
      "execution_count": 18,
      "outputs": [
        {
          "output_type": "stream",
          "name": "stdout",
          "text": [
            "---- 入力画像に VAE 生成画像との差分を重畳 ----\n",
            "Sum of absolute values of difference = 28.97674909922073\n",
            "Min. diff. (abs) = 1.0301912528301411e-20\n",
            "Max. diff. (abs) = 0.970653060823679\n"
          ]
        },
        {
          "output_type": "display_data",
          "data": {
            "text/plain": [
              "<Figure size 432x288 with 2 Axes>"
            ],
            "image/png": "[encoded data removed]"
          },
          "metadata": {
            "needs_background": "light"
          }
        }
      ]
    }
  ]
}