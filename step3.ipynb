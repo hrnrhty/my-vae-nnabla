{
  "nbformat": 4,
  "nbformat_minor": 0,
  "metadata": {
    "colab": {
      "name": "step3.ipynb",
      "provenance": [],
      "private_outputs": true,
      "mount_file_id": "1azEAQ29wwR4X7q1BqVcJknCsHk48EXsG",
      "authorship_tag": "ABX9TyNrJofPYTcCmKRKfVMP4KB1",
      "include_colab_link": true
    },
    "kernelspec": {
      "name": "python3",
      "display_name": "Python 3"
    },
    "language_info": {
      "name": "python"
    }
  },
  "cells": [
    {
      "cell_type": "markdown",
      "metadata": {
        "id": "view-in-github",
        "colab_type": "text"
      },
      "source": [
        "<a href=\"https://colab.research.google.com/github/hrnrhty/my-vae-nnabla/blob/step3/step3.ipynb\" target=\"_parent\"><img src=\"https://colab.research.google.com/assets/colab-badge.svg\" alt=\"Open In Colab\"/></a>"
      ]
    },
    {
      "cell_type": "markdown",
      "source": [
        "# Step 3 - オリジナルデータセットの作成"
      ],
      "metadata": {
        "id": "4tlET6AUowbX"
      }
    },
    {
      "cell_type": "markdown",
      "source": [
        "Step 1 では [MNIST](http://yann.lecun.com/exdb/mnist/) データセットを使って VAE (Variational Auto Encoder) の学習を行いました。続く Step 2 では、学習済みパラメータを読み込んで推論を実行しました。Step 2 で確認した通り、VAE は学習に用いたデータの特徴を学習し、学習データに共通して含まれる特徴を再現するような出力データを生成します。しかし、これがいったい何の役に立つのでしょうか？実は、この特性は「異常検知」に応用することができるのです。\n",
        "\n",
        "異常とは、「正常時にはない特徴」と考えることができます。正常なデータのみを使ってトレーニングされた VAE は、正常データに共通する特徴しか再現できません。このため、推論時に異常が含まれるデータを入力すると、異常箇所が欠落したデータを出力します。つまり、入出力データを比べて差の多い部分が異常であると考えることができるのです。この特性を利用し、入力データと VAE 出力データとを比較することによって、差が大きい部分を異常箇所として可視化したり、その差が一定値以上の時に異常と判定するなど、異常検知アプリケーションに応用することができるのです。\n",
        "\n",
        "本ステップ以降では、実際に VAE を異常検知に応用していきます。まずはじめに、本ステップではオリジナルのデータセットを作成してみましょう。"
      ],
      "metadata": {
        "id": "5BD4eZ-rpNir"
      }
    },
    {
      "cell_type": "markdown",
      "source": [
        "## Google Drive のマウント"
      ],
      "metadata": {
        "id": "6Yec1Dzoo8Dv"
      }
    },
    {
      "cell_type": "markdown",
      "source": [
        "作成したデータセットの永続化のため Google Drive をマウントします。"
      ],
      "metadata": {
        "id": "RjbhbR8YpEBV"
      }
    },
    {
      "cell_type": "code",
      "source": [
        "from google.colab import drive\n",
        "drive.mount('/content/drive')"
      ],
      "metadata": {
        "id": "GfGngiPFo_Fr"
      },
      "execution_count": null,
      "outputs": []
    },
    {
      "cell_type": "markdown",
      "source": [
        "## 画像の読み込み"
      ],
      "metadata": {
        "id": "gYMEnHgAjj7e"
      }
    },
    {
      "cell_type": "code",
      "execution_count": null,
      "metadata": {
        "id": "6T52-74Ry6sL"
      },
      "outputs": [],
      "source": [
        "%matplotlib inline\n",
        "from PIL import Image\n",
        "import matplotlib.pyplot as plt\n",
        "\n",
        "im = Image.open('drive/MyDrive/images/cardboard.jpg')\n",
        "plt.imshow(im)\n",
        "plt.show()"
      ]
    },
    {
      "cell_type": "markdown",
      "source": [
        "読み込んだ画像のサイズを確認してみましょう。下記のコードで、読み込んだ画像は幅 4032、高さ 3024 であることがわかります。"
      ],
      "metadata": {
        "id": "OwsHAdzSjuyc"
      }
    },
    {
      "cell_type": "code",
      "source": [
        "print('(width, height) =', im.size)"
      ],
      "metadata": {
        "id": "EaXeWABDfWpu"
      },
      "execution_count": null,
      "outputs": []
    },
    {
      "cell_type": "code",
      "source": [
        "im_small = im.resize((im.width // 12, im.height // 12), resample=Image.LANCZOS)\n",
        "plt.imshow(im_small)\n",
        "plt.show()\n",
        "print('(width, height) =', im_small.size)"
      ],
      "metadata": {
        "id": "_S0cTSEfkOFq"
      },
      "execution_count": null,
      "outputs": []
    },
    {
      "cell_type": "code",
      "source": [
        "im_gray = im_small.convert('L')\n",
        "plt.imshow(im_gray, cmap='gray')\n",
        "plt.show()"
      ],
      "metadata": {
        "id": "XLZV8eceQnAp"
      },
      "execution_count": null,
      "outputs": []
    },
    {
      "cell_type": "code",
      "source": [
        "width = 28\n",
        "height = 28\n",
        "div_h = im_gray.width // width\n",
        "div_v = im_gray.height // height\n",
        "\n",
        "im_cropped = []\n",
        "for v in range(div_v):\n",
        "    for h in range(div_h):\n",
        "        left = h * width\n",
        "        upper = v * height\n",
        "        right = (h + 1) * width\n",
        "        lower = (v + 1) * height\n",
        "        im_cropped.append(im_gray.crop((left, upper, right, lower)))\n",
        "len(im_cropped)"
      ],
      "metadata": {
        "id": "ifnfaWW7kB6d"
      },
      "execution_count": null,
      "outputs": []
    },
    {
      "cell_type": "code",
      "source": [
        "print(div_h, div_v)\n",
        "from PIL import ImageDraw\n",
        "draw = ImageDraw.Draw(im_small)\n",
        "v, h = (2, 3)  # 3行目4列目傷 idx=27  \n",
        "draw.rectangle((28*h, 28*v, 28*h+28, 28*v+28), fill=None, outline='red')\n",
        "v, h = (6, 7)  # 7行目8列目インク idx=79\n",
        "draw.rectangle((28*h, 28*v, 28*h+28, 28*v+28), fill=None, outline='blue')\n",
        "plt.imshow(im_small)\n",
        "plt.show()"
      ],
      "metadata": {
        "id": "mIG00Hl2Y_19"
      },
      "execution_count": null,
      "outputs": []
    },
    {
      "cell_type": "code",
      "source": [
        "print(len(im_cropped))\n",
        "im_ad_test = []\n",
        "im_ad_test.append(im_cropped.pop(79))\n",
        "im_ad_test.append(im_cropped.pop(27))"
      ],
      "metadata": {
        "id": "UOwklgo-EuzD"
      },
      "execution_count": null,
      "outputs": []
    },
    {
      "cell_type": "code",
      "source": [
        "plt.imshow(im_ad_test[0], cmap='gray')\n",
        "plt.show()"
      ],
      "metadata": {
        "id": "dKuGeoSXFqea"
      },
      "execution_count": null,
      "outputs": []
    },
    {
      "cell_type": "code",
      "source": [
        "plt.imshow(im_ad_test[1], cmap='gray')\n",
        "plt.show()"
      ],
      "metadata": {
        "id": "FEPJ9IQqFvw9"
      },
      "execution_count": null,
      "outputs": []
    },
    {
      "cell_type": "markdown",
      "source": [
        "### TODO\n",
        "NG 2 個 + OK 6 個、計 8 個 を性能検証用データに、残り 100 個を学習用データに分ける。\n",
        "画像はグレースケール 28 x 28 で通し番号を付けて保存。\n",
        "データセットは CSV 形式で、1行目はヘッダ。NNC と同じ形式が読み込めるようなので、NNC のマニュアルに従い CSV ファイルを作る。"
      ],
      "metadata": {
        "id": "KY7MABWQ7xm1"
      }
    },
    {
      "cell_type": "code",
      "source": [
        "len(im_cropped)"
      ],
      "metadata": {
        "id": "eAE_50D9GFL_"
      },
      "execution_count": null,
      "outputs": []
    }
  ]
}